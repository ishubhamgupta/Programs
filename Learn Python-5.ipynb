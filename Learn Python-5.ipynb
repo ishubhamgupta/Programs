{
 "cells": [
  {
   "cell_type": "code",
   "execution_count": null,
   "metadata": {
    "collapsed": true
   },
   "outputs": [],
   "source": [
    "# File I/O\n",
    "\n",
    "# # Q27. Write a Python function called reduce whitespace that is given a line read from a text fi le and returns the line with all extra whitespace characters between words removed.\n",
    "\n",
    "\n",
    "\n",
    "def reduce_whitespace(line):\n",
    "    line2 = line.split()\n",
    "    print(line2)\n",
    "    line1 = (\" \".join(line2))\n",
    "    return line1\n",
    "\n",
    "file = input('Enter the name of file:')\n",
    "fp = open(file,'r')\n",
    "line = fp.readline()\n",
    "print('Orignal line: ', line)\n",
    "print('After stripping extra white spaces: ')\n",
    "reduce_whitespace(line)\n"
   ]
  },
  {
   "cell_type": "code",
   "execution_count": null,
   "metadata": {
    "collapsed": true
   },
   "outputs": [],
   "source": [
    "# # Q28. Write a Python function named “checkQuotes” that is given a line read from a text file and returns True if each quote characters in the line has a matching quote (of the same type), otherwise returns False.\n",
    "\n",
    "\n",
    "def checkQuotes(line):\n",
    "    c1 = line.count(\"'\")\n",
    "    if c1%2 == 0:\n",
    "        return True\n",
    "    else:\n",
    "        return False\n",
    "    \n",
    "file = input('Enter the name of file:')\n",
    "fp = open(file,'r')\n",
    "line = fp.readline()\n",
    "print('The line is:  ', line)\n",
    "print('Quotes:', end = \"\")\n",
    "b = checkQuotes(line)\n",
    "print(b)\n",
    "\n"
   ]
  },
  {
   "cell_type": "code",
   "execution_count": null,
   "metadata": {
    "collapsed": true
   },
   "outputs": [],
   "source": [
    "\n"
   ]
  }
 ],
 "metadata": {
  "anaconda-cloud": {},
  "kernelspec": {
   "display_name": "Python [default]",
   "language": "python",
   "name": "python3"
  },
  "language_info": {
   "codemirror_mode": {
    "name": "ipython",
    "version": 3
   },
   "file_extension": ".py",
   "mimetype": "text/x-python",
   "name": "python",
   "nbconvert_exporter": "python",
   "pygments_lexer": "ipython3",
   "version": "3.5.2"
  }
 },
 "nbformat": 4,
 "nbformat_minor": 1
}
