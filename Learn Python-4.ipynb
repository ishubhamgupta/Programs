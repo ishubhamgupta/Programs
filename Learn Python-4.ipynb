{
 "cells": [
  {
   "cell_type": "code",
   "execution_count": 1,
   "metadata": {
    "collapsed": false
   },
   "outputs": [
    {
     "data": {
      "text/plain": [
       "{'A': 1, 'B': 2, 'C': 3, 'D': 4}"
      ]
     },
     "execution_count": 1,
     "metadata": {},
     "output_type": "execute_result"
    }
   ],
   "source": [
    "# # Dictionaries\n",
    "\n",
    "# # Q18. (a) Write a program to create two dictionaries and merge them into a single dictionary.\n",
    "\n",
    "\n",
    "\n",
    "d1={'A':1,'B':2} \n",
    "d2={'C':3,'D':4}\n",
    "d1.update(d2.copy())\n",
    "d1\n"
   ]
  },
  {
   "cell_type": "code",
   "execution_count": 2,
   "metadata": {
    "collapsed": false
   },
   "outputs": [
    {
     "name": "stdout",
     "output_type": "stream",
     "text": [
      "4\n",
      "dict_keys(['Jenny', 'Lisa', 'Arham', 'Shubham'])\n",
      "{'Jenny': 'Pink', 'Lisa': 'White', 'Arham': 'Blue', 'Shubham': 'Purple'}\n",
      "{'Lisa': 'White', 'Arham': 'Blue', 'Shubham': 'Purple'}\n",
      "[('Arham', 'Blue'), ('Lisa', 'White'), ('Shubham', 'Purple')]\n"
     ]
    }
   ],
   "source": [
    "# # (b). Given a dictionary of students and their favorite colors:\n",
    "# # people = {'Arham':'Blue','Lisa':'Yellow',''Vinod:'Purple','Jenny':'Pink'}\n",
    "\n",
    "# In[53]:\n",
    "\n",
    "\n",
    "people = {'Shubahm':'Purple','Lisa':'Yellow','Arham':'Blue','Jenny':'Pink'}\n",
    "print(len(people))\n",
    "\n",
    "people={'Arham':'Blue','Lisa':'Yellow','Shubham':'Purple','Jenny':'Pink'}\n",
    "print(people.keys())\n",
    "\n",
    "people['Lisa']='White'\n",
    "print(people)\n",
    "\n",
    "people.pop('Jenny')\n",
    "print(people)\n",
    "\n",
    "print(sorted(people.items()))\n"
   ]
  },
  {
   "cell_type": "code",
   "execution_count": 3,
   "metadata": {
    "collapsed": false
   },
   "outputs": [
    {
     "name": "stdout",
     "output_type": "stream",
     "text": [
      "enter any string:shubham\n",
      "[('a', 1), ('b', 1), ('h', 2), ('m', 1), ('s', 1), ('u', 1)]\n"
     ]
    }
   ],
   "source": [
    "# # Q19. Write a program that takes a string as input and builds a frequency listing of the characters contained in it. Represent the frequency listing as a Python dictionary.\n",
    "\n",
    "ip=input(\"enter any string:\")\n",
    "count={}\n",
    "for i in range (len(ip)):\n",
    "    count[ip[i]]=count.get(ip[i],0)+1\n",
    "print(sorted(count.items())) \n",
    "\n"
   ]
  },
  {
   "cell_type": "code",
   "execution_count": 4,
   "metadata": {
    "collapsed": false
   },
   "outputs": [
    {
     "name": "stdout",
     "output_type": "stream",
     "text": [
      "from ice liberated are river and brooks "
     ]
    }
   ],
   "source": [
    "# # Q20. A simple German to English dictionary is given below. Write a program to translate  the German sentence “\"vom eise befreit sind strom und baeche\"” to English.  \n",
    "\n",
    "\n",
    "\n",
    "German_Dict = {\"befreit\":\"liberated\", \"baeche\":\"brooks\", \"eise\":\"ice\", \"sind\":\"are\",\n",
    "\"strom\":\"river\", \"und\":\"and\", \"vom\":\"from\"}\n",
    "i=\"vom eise befreit sind strom und baeche\"\n",
    "i1=i.split(sep=\" \")\n",
    "for i2 in i1:\n",
    "    print(German_Dict[i2],end =\" \")\n"
   ]
  },
  {
   "cell_type": "code",
   "execution_count": null,
   "metadata": {
    "collapsed": true
   },
   "outputs": [],
   "source": []
  }
 ],
 "metadata": {
  "anaconda-cloud": {},
  "kernelspec": {
   "display_name": "Python [default]",
   "language": "python",
   "name": "python3"
  },
  "language_info": {
   "codemirror_mode": {
    "name": "ipython",
    "version": 3
   },
   "file_extension": ".py",
   "mimetype": "text/x-python",
   "name": "python",
   "nbconvert_exporter": "python",
   "pygments_lexer": "ipython3",
   "version": "3.5.2"
  }
 },
 "nbformat": 4,
 "nbformat_minor": 1
}
