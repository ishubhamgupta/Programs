{
 "cells": [
  {
   "cell_type": "code",
   "execution_count": 1,
   "metadata": {
    "collapsed": false
   },
   "outputs": [
    {
     "name": "stdout",
     "output_type": "stream",
     "text": [
      "[2002, 2009, 2016, 2023, 2037, 2044, 2051, 2058, 2072, 2079, 2086, 2093, 2107, 2114, 2121, 2128, 2142, 2149, 2156, 2163, 2177, 2184, 2191, 2198, 2212, 2219, 2226, 2233, 2247, 2254, 2261, 2268, 2282, 2289, 2296, 2303, 2317, 2324, 2331, 2338, 2352, 2359, 2366, 2373, 2387, 2394, 2401, 2408, 2422, 2429, 2436, 2443, 2457, 2464, 2471, 2478, 2492, 2499, 2506, 2513, 2527, 2534, 2541, 2548, 2562, 2569, 2576, 2583, 2597, 2604, 2611, 2618, 2632, 2639, 2646, 2653, 2667, 2674, 2681, 2688, 2702, 2709, 2716, 2723, 2737, 2744, 2751, 2758, 2772, 2779, 2786, 2793, 2807, 2814, 2821, 2828, 2842, 2849, 2856, 2863, 2877, 2884, 2891, 2898, 2912, 2919, 2926, 2933, 2947, 2954, 2961, 2968, 2982, 2989, 2996]\n"
     ]
    }
   ],
   "source": [
    "l = []\n",
    "for i in range(2000,3001):\n",
    "    if i % 7 ==0 and i % 5 !=0:\n",
    "        l.append(i)\n",
    "print(l)        "
   ]
  },
  {
   "cell_type": "code",
   "execution_count": 14,
   "metadata": {
    "collapsed": false
   },
   "outputs": [
    {
     "name": "stdout",
     "output_type": "stream",
     "text": [
      "{'manish': '1', 'anish': '2', 'aryan': '3', 'ankit': '4', 'tanish': '5'}\n"
     ]
    }
   ],
   "source": [
    "#swap\n",
    "x = {'1':'manish','2':'anish','3':'aryan','4':'ankit','5':'tanish'}\n",
    "y = {}\n",
    "for k , v in x.items():\n",
    "    y[v] = k\n",
    "print(y)    "
   ]
  },
  {
   "cell_type": "code",
   "execution_count": 28,
   "metadata": {
    "collapsed": false
   },
   "outputs": [
    {
     "name": "stdout",
     "output_type": "stream",
     "text": [
      "{3.0: 'manish'}\n",
      "{3.0: 'anish'}\n",
      "{3.0: 'aryan'}\n",
      "{3.0: 'ankit'}\n",
      "{3.0: 'tanish'}\n"
     ]
    }
   ],
   "source": [
    "#replace all the keys with average\n",
    "x = {'1':'manish','2':'anish','3':'aryan','4':'ankit','5':'tanish'}\n",
    "y = len(x)\n",
    "z = {}\n",
    "sum = 0\n",
    "for i in x.keys():\n",
    "    sum =sum + int(i)\n",
    "average = sum / y\n",
    "for i in x.values():\n",
    "    z[average] = i\n",
    "    print(z)    "
   ]
  },
  {
   "cell_type": "code",
   "execution_count": 16,
   "metadata": {
    "collapsed": false
   },
   "outputs": [
    {
     "name": "stdout",
     "output_type": "stream",
     "text": [
      "manish\n",
      "ankit\n"
     ]
    }
   ],
   "source": [
    "#nested dictionary\n",
    "x ={1:{'2':'manish'},2:{'3':'ankit'}}\n",
    "for k, v in x.items():\n",
    "    for m,n in v.items():\n",
    "        print(n)"
   ]
  },
  {
   "cell_type": "code",
   "execution_count": 5,
   "metadata": {
    "collapsed": false
   },
   "outputs": [
    {
     "name": "stdout",
     "output_type": "stream",
     "text": [
      "0 manish\n",
      "1 tanish\n",
      "2 anish\n",
      "3 ankit\n"
     ]
    }
   ],
   "source": [
    "x = ['manish','tanish','anish','ankit']\n",
    "for i ,j in enumerate(x):\n",
    "    print(i ,j)"
   ]
  },
  {
   "cell_type": "code",
   "execution_count": 5,
   "metadata": {
    "collapsed": false
   },
   "outputs": [
    {
     "name": "stdout",
     "output_type": "stream",
     "text": [
      "10\n",
      "56\n"
     ]
    }
   ],
   "source": [
    "x = 10\n",
    "y = 20 \n",
    "def change():\n",
    "    global y \n",
    "    x = 45\n",
    "    y = 56 \n",
    "change()\n",
    "print(x)\n",
    "print(y)\n"
   ]
  },
  {
   "cell_type": "code",
   "execution_count": null,
   "metadata": {
    "collapsed": true
   },
   "outputs": [],
   "source": [
    "x = int(input('enter a number\\n'))\n",
    "fact =1\n",
    "for i in range (1,x+1):\n",
    "    fact = fact * i\n",
    "print('factorial of',x,fact)    "
   ]
  },
  {
   "cell_type": "code",
   "execution_count": null,
   "metadata": {
    "collapsed": true
   },
   "outputs": [],
   "source": [
    "import math\n",
    "x = int(input('input number of test cases'))\n",
    "for i in range(0,x):\n",
    "    z = int(input('enter the number'))\n",
    "    p = int(math.sqrt(z))\n",
    "    if p*p == z:\n",
    "        print('1')\n",
    "    else:\n",
    "        print('0')\n"
   ]
  },
  {
   "cell_type": "code",
   "execution_count": 1,
   "metadata": {
    "collapsed": false
   },
   "outputs": [
    {
     "name": "stdout",
     "output_type": "stream",
     "text": [
      "enter the number7\n",
      "1  1  2  3  5  8  13  "
     ]
    }
   ],
   "source": [
    "a=1\n",
    "b=0 \n",
    "x = int(input('enter the number'))    \n",
    "for i in range(0,x):\n",
    "    c = a + b\n",
    "    print(c ,' ', end='')\n",
    "    a = b\n",
    "    b = c\n",
    "            "
   ]
  },
  {
   "cell_type": "code",
   "execution_count": null,
   "metadata": {
    "collapsed": true,
    "scrolled": true
   },
   "outputs": [],
   "source": [
    "x = int(input('enter a number\\n'))\n",
    "y = dict()\n",
    "for i in range(1,x+1):\n",
    "    y[i] = i*i\n",
    "print(y)    \n",
    "#for i in range(1,x+1):\n",
    "  #  print(i,':',y[i-1],end='')\n",
    "    \n",
    "    "
   ]
  },
  {
   "cell_type": "code",
   "execution_count": null,
   "metadata": {
    "collapsed": true
   },
   "outputs": [],
   "source": [
    "z = []\n",
    "m =[]\n",
    "for i in range(1,5):\n",
    "    x= int(input('Enter the value')) \n",
    "    z.append(x) \n",
    "print(z)    \n",
    "for i in z:\n",
    "    m.append(str(i))\n",
    "print(m)\n"
   ]
  },
  {
   "cell_type": "code",
   "execution_count": null,
   "metadata": {
    "collapsed": true
   },
   "outputs": [],
   "source": [
    "import math\n",
    "import time\n",
    "start_time = time.clock()\n",
    "z = []\n",
    "y = []\n",
    "m = []\n",
    "C = 50\n",
    "H = 30\n",
    "for i in range(1,4):\n",
    "    x= int(input('Enter the value')) \n",
    "    z.append(x) \n",
    "for i in z:\n",
    "    D = i\n",
    "    Q = math.sqrt((2 * C * D)/H)\n",
    "    y.append(Q)\n",
    "for i in y:\n",
    "    c = int(i)\n",
    "    m.append(c)\n",
    "print(m)  \n",
    "print('Execution time :',time.clock()-start_time)"
   ]
  },
  {
   "cell_type": "code",
   "execution_count": null,
   "metadata": {
    "collapsed": true
   },
   "outputs": [],
   "source": [
    "x =int(input('enter the number of words you want to enter\\n'))\n",
    "z = []\n",
    "for i in range(1,x+1):\n",
    "    y = input('enter the word')\n",
    "    z.append(y)\n",
    "print(sorted(z, key = str.lower))\n",
    "    \n",
    "    "
   ]
  },
  {
   "cell_type": "code",
   "execution_count": null,
   "metadata": {
    "collapsed": true
   },
   "outputs": [],
   "source": [
    "#x = open('/home/manish/Desktop/upper.txt','r+')\n",
    "#x.write('hello world')\n",
    "#x.write('practice makes a man perfect')\n",
    "#for i in x.readlines():\n",
    "#    print(i.upper())\n",
    "#x.close() \n",
    "z =[]\n",
    "x=2\n",
    "for i in range(0,x):\n",
    "    y = input('enter the string')\n",
    "    z.append(y)\n",
    "for i in z:  \n",
    "    y = str(i)\n",
    "    print(y.upper())\n"
   ]
  },
  {
   "cell_type": "code",
   "execution_count": null,
   "metadata": {
    "collapsed": true
   },
   "outputs": [],
   "source": [
    "y = input('enter the string\\n')\n",
    "l = y.split()\n",
    "m = (sorted(l,key = str.lower))\n",
    "print(' '.join(m))\n",
    "\n"
   ]
  },
  {
   "cell_type": "code",
   "execution_count": null,
   "metadata": {
    "collapsed": true
   },
   "outputs": [],
   "source": [
    "x= []\n",
    "m =[]   \n",
    "for i in range(0,5):\n",
    "    y = int(input('enter the value\\n'))\n",
    "    x.append(y)\n",
    "    if y%5 == 0 :\n",
    "        m.append(y)\n",
    "print('before dividing',x)       \n",
    "print('after dividing',m)        "
   ]
  },
  {
   "cell_type": "code",
   "execution_count": null,
   "metadata": {
    "collapsed": true
   },
   "outputs": [],
   "source": [
    "x = input('Enter the string\\n')\n",
    "y = {'letters': 0, 'Digit': 0}\n",
    "for i in x.split():\n",
    "    if  i.isalpha():\n",
    "        y['letters'] += len(i)\n",
    "    elif i.isdigit():\n",
    "        y['Digit'] += len(i)\n",
    "    else:\n",
    "        pass\n",
    "print(y)    "
   ]
  },
  {
   "cell_type": "code",
   "execution_count": 2,
   "metadata": {
    "collapsed": false
   },
   "outputs": [
    {
     "ename": "SyntaxError",
     "evalue": "can't assign to function call (<ipython-input-2-76043ceeb4cc>, line 2)",
     "output_type": "error",
     "traceback": [
      "\u001b[0;36m  File \u001b[0;32m\"<ipython-input-2-76043ceeb4cc>\"\u001b[0;36m, line \u001b[0;32m2\u001b[0m\n\u001b[0;31m    x(1) = 2\u001b[0m\n\u001b[0m            ^\u001b[0m\n\u001b[0;31mSyntaxError\u001b[0m\u001b[0;31m:\u001b[0m can't assign to function call\n"
     ]
    }
   ],
   "source": [
    "x=('string',1,2,3)\n",
    "x(1) = 2\n",
    "print(x)\n"
   ]
  }
 ],
 "metadata": {
  "anaconda-cloud": {},
  "kernelspec": {
   "display_name": "Python [default]",
   "language": "python",
   "name": "python3"
  },
  "language_info": {
   "codemirror_mode": {
    "name": "ipython",
    "version": 3
   },
   "file_extension": ".py",
   "mimetype": "text/x-python",
   "name": "python",
   "nbconvert_exporter": "python",
   "pygments_lexer": "ipython3",
   "version": "3.5.2"
  }
 },
 "nbformat": 4,
 "nbformat_minor": 2
}
