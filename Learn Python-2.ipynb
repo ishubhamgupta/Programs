{
 "cells": [
  {
   "cell_type": "code",
   "execution_count": 1,
   "metadata": {
    "collapsed": false
   },
   "outputs": [
    {
     "name": "stdout",
     "output_type": "stream",
     "text": [
      "Enter a string:shubham kumar gupta\n",
      "gupta\n",
      "kumar\n",
      "shubham\n"
     ]
    }
   ],
   "source": [
    "# Q12. Write a program to read a multi word string and print all the wordsalphabetical order in alphabetical order.\n",
    "\n",
    "string1=input('Enter a string:')\n",
    "words=string1.split()\n",
    "words.sort()\n",
    "for word in words:\n",
    "    print(word)"
   ]
  },
  {
   "cell_type": "code",
   "execution_count": 2,
   "metadata": {
    "collapsed": false
   },
   "outputs": [
    {
     "name": "stdout",
     "output_type": "stream",
     "text": [
      "Enter a string:shubham kumar gupta\n",
      "shubhamkumargupta"
     ]
    }
   ],
   "source": [
    "# Q13. Write a program to remove all the punctuation characters from the given string.\n",
    "\n",
    "string2=input('Enter a string:')\n",
    "for i in string2:\n",
    "    if ord(i)>64 and ord(i)<91 or ord(i)>96 and ord(i)<123:\n",
    "        print(i,end=\"\")\n",
    "\n"
   ]
  },
  {
   "cell_type": "code",
   "execution_count": 3,
   "metadata": {
    "collapsed": false
   },
   "outputs": [
    {
     "name": "stdout",
     "output_type": "stream",
     "text": [
      "Enter a string:this is shubham \n",
      "The given string is not a pangram\n"
     ]
    }
   ],
   "source": [
    "# # Q14. Write a program to check whether a sentence is a pangram or not.\n",
    "\n",
    "\n",
    "string3=input('Enter a string:')\n",
    "b=False\n",
    "s1='abcdefghijklmnopqrstuvwxyz'\n",
    "string3.casefold()\n",
    "for ch in s1:\n",
    "    if ch not in string3:\n",
    "        b=True\n",
    "        break\n",
    "if b==False:\n",
    "    print('The given string is a pangram')\n",
    "else:\n",
    "    print('The given string is not a pangram')\n",
    "\n",
    "\n"
   ]
  },
  {
   "cell_type": "code",
   "execution_count": 4,
   "metadata": {
    "collapsed": false
   },
   "outputs": [
    {
     "name": "stdout",
     "output_type": "stream",
     "text": [
      "Enter a string:shubham kumar gupta\n",
      "skg"
     ]
    }
   ],
   "source": [
    "# # Q15. Write a program that takes a phrase as a user input and then prints the corresponding acronym.\n",
    "\n",
    "string4=input('Enter a string:')\n",
    "words=string4.split()\n",
    "for word in words:\n",
    "    print(word[0],end=\"\")\n"
   ]
  },
  {
   "cell_type": "code",
   "execution_count": 6,
   "metadata": {
    "collapsed": false
   },
   "outputs": [
    {
     "name": "stdout",
     "output_type": "stream",
     "text": [
      "Shubham\n",
      "Kumar\n",
      "Gupta\n",
      "SKG\n",
      "Length of the tuple: 4\n"
     ]
    }
   ],
   "source": [
    "# # Tuples\n",
    "\n",
    "# # Q16. Perform the following operations on tuples.\n",
    "\n",
    "# In[21]:\n",
    "\n",
    "t1=('Shubham','Kumar','Gupta','SKG')\n",
    "for i in t1:\n",
    "    print(i)\n",
    "print('Length of the tuple:',len(t1))\n",
    "#t1.append('shubham')\n",
    "#del t1[2]\n",
    "#Original tuple cannot be modified\n",
    "del t1\n",
    "#dir(tuple)\n",
    "\n"
   ]
  },
  {
   "cell_type": "code",
   "execution_count": 7,
   "metadata": {
    "collapsed": false
   },
   "outputs": [
    {
     "name": "stdout",
     "output_type": "stream",
     "text": [
      "('USERID', 'BOOKID', 'RATING')\n",
      "(1, 101, 5.0)\n",
      "(1, 102, 3.0)\n",
      "(1, 103, 2.5)\n",
      "(2, 101, 2.0)\n",
      "(2, 102, 2.5)\n",
      "(2, 103, 5.0)\n",
      "(2, 104, 2.0)\n",
      "(3, 101, 2.5)\n",
      "(3, 102, 4.0)\n",
      "(3, 103, 4.5)\n",
      "(3, 104, 5.0)\n",
      "((101, 2.375), (102, 2.375), (103, 3.0), (101, 2.3333333333333335))\n",
      "The book with the highest rating is: Bookid - 103\n"
     ]
    }
   ],
   "source": [
    "# # Q17. Three users have rated four books. The following table contains USERID, BOOKID and RATING. Create a tuple which can store the entire data. Find out which book is most popular.\n",
    "\n",
    "\n",
    "books=(('USERID','BOOKID','RATING'),(1,101,5.0),(1,102,3.0),(1,103,2.5),(2,101,2.0),(2,102,2.5),(2,103,5.0),(2,104,2.0),(3,101,2.5),(3,102,4.0),(3,103,4.5),(3,104,5.0))\n",
    "sum1,sum2,sum3,sum4=0,0,0,0\n",
    "\n",
    "for t in books:\n",
    "    print(t)\n",
    "    if t[1]==101:\n",
    "        sum1=sum1+t[2]\n",
    "    if t[1]==102:\n",
    "        sum2=sum2+t[2]\n",
    "    if t[1]==103:\n",
    "        sum3=sum3+t[2]\n",
    "    if t[1]==104:\n",
    "        sum4=sum4+t[2]\n",
    "av=((books[1][1],sum1/4),(books[2][1],sum2/4),(books[3][1],sum3/4),(books[4][1],sum4/3))\n",
    "maxav=max(av[0][1],av[1][1],av[2][1],av[3][1])\n",
    "print(av)\n",
    "#print('The highest rating is:',max(av),'for the book:10',end=\"\")\n",
    "for i in av:\n",
    "    if i[1]==maxav:\n",
    "        print('The book with the highest rating is: Bookid -',i[0])\n",
    "\n",
    "\n"
   ]
  },
  {
   "cell_type": "code",
   "execution_count": 8,
   "metadata": {
    "collapsed": false
   },
   "outputs": [
    {
     "name": "stdout",
     "output_type": "stream",
     "text": [
      "The sum of values in the list(while loop): 45\n",
      "The sum of values in the list(for loop1) : 45\n",
      "The sum of values in the list(for loop2) : 45\n",
      "The list of integers backwards:\n",
      "9 8 7 6 5 4 3 2 1 \r\n",
      "Alternate values in the list:\n",
      "1 3 5 7 9 \r\n",
      "Aternate values in the list(2):\n",
      "1 3 5 7 9 \r\n",
      "Reversing the list using reverse method:\n",
      "9 8 7 6 5 4 3 2 1 "
     ]
    }
   ],
   "source": [
    "# # Lists\n",
    "\n",
    "# # Q21. For a list of integers named nums\n",
    "\n",
    "\n",
    "nums=[1,2,3,4,5,6,7,8,9]\n",
    "i,sum1,sum2,sum3=0,0,0,0\n",
    "while i<len(nums):\n",
    "    sum1=sum1+nums[i]\n",
    "    i=i+1\n",
    "print('The sum of values in the list(while loop):',sum1)\n",
    "for i in nums:\n",
    "    sum2=sum2+i\n",
    "print('The sum of values in the list(for loop1) :',sum2)\n",
    "for i in range(0,len(nums)):\n",
    "    sum3=sum3+nums[i]\n",
    "print('The sum of values in the list(for loop2) :',sum3)\n",
    "print('The list of integers backwards:')\n",
    "for i in nums[::-1]:\n",
    "    print(i,end=\" \")\n",
    "print('\\r')\n",
    "print('Alternate values in the list:')\n",
    "for i in range(1,len(nums)+1,2):\n",
    "    print(i,end=\" \")\n",
    "print('\\r')\n",
    "print('Aternate values in the list(2):')\n",
    "for i in nums[::2]:\n",
    "    print(i,end=\" \")\n",
    "print('\\r')\n",
    "nums.reverse()\n",
    "print('Reversing the list using reverse method:')\n",
    "for i in nums:\n",
    "    print(i,end=\" \")\n",
    "\n",
    "\n"
   ]
  },
  {
   "cell_type": "code",
   "execution_count": 9,
   "metadata": {
    "collapsed": false
   },
   "outputs": [
    {
     "name": "stdout",
     "output_type": "stream",
     "text": [
      "Enter the direction:up\n",
      "Enter the number of steps:5\n",
      "Continue(y/n):y\n",
      "Enter the direction:down\n",
      "Enter the number of steps:4\n",
      "Continue(y/n):n\n",
      "Movement of the robot:\n",
      " [[0, 0], [0, 5], [0, -4]]\n",
      "The distance from starting point is: 1\n"
     ]
    }
   ],
   "source": [
    "# # Q22. A robot moves in a plane starting from the original point (0,0). The robot can move UP, DOWN, LEFT and RIGHT with a given number of steps. The trace of robot movement is shown below:\n",
    "\n",
    "robotmov=[]\n",
    "robotmov.append([0,0])\n",
    "ch='y'\n",
    "while ch in ('y','Y','yes'):\n",
    "    direction=input('Enter the direction:')\n",
    "    steps=int(input('Enter the number of steps:'))\n",
    "    ch=input('Continue(y/n):')\n",
    "    if direction=='up':\n",
    "        robotmov.append([0,steps])\n",
    "    elif direction=='down':\n",
    "        robotmov.append([0,-steps])\n",
    "    elif direction=='left':\n",
    "        robotmov.append([-steps,0])\n",
    "    elif direction=='right':\n",
    "        robotmov.append([steps,0])\n",
    "    else:\n",
    "        print('Invalid direction')\n",
    "print('Movement of the robot:\\n',robotmov)\n",
    "sum1,sum2=0,0\n",
    "list1=[row[0] for row in robotmov]\n",
    "for i in list1:\n",
    "    sum1=sum1+i\n",
    "list2=[row[1] for row in robotmov]\n",
    "for i in list2:\n",
    "    sum2=sum2+i\n",
    "dist=(sum1**2+sum2**2)**0.5\n",
    "print('The distance from starting point is:',int(dist))\n",
    "\n"
   ]
  },
  {
   "cell_type": "code",
   "execution_count": 10,
   "metadata": {
    "collapsed": false
   },
   "outputs": [
    {
     "name": "stdout",
     "output_type": "stream",
     "text": [
      "Enter the passwords:Shubh@m1994\n",
      "All passwords: ['Shubh@m1994']\n",
      "Valid passwords: ['Shubh@m1994']\n"
     ]
    }
   ],
   "source": [
    "# # Q23. A website requires the users to input username and password to register. Write a program to check the validity of password input by users. Following are the criteria for checking the password:\n",
    "\n",
    "passwords=input('Enter the passwords:')\n",
    "password=[]\n",
    "password=passwords.split(',')\n",
    "print('All passwords:',password)\n",
    "password_invalid=[]\n",
    "for word in password:\n",
    "    b1,b2,b3,b4=False,False,False,False\n",
    "    if len(word)<6 or len(word)>12:\n",
    "        password_invalid.append(word)\n",
    "    else: \n",
    "        for ch in word:\n",
    "            if ch>='a' and ch<='z':\n",
    "                b1=True\n",
    "            if ch>='A' and ch<='Z':\n",
    "                b2=True\n",
    "            if ch>='0' and ch<='9':\n",
    "                b3=True\n",
    "            if ch=='#' or ch=='$' or ch=='@':\n",
    "                b4=True\n",
    "        if b1==False or b2==False or b3==False or b4==False:\n",
    "            password_invalid.append(word)\n",
    "for word in password_invalid:\n",
    "    password.remove(word)\n",
    "print('Valid passwords:',password)\n",
    "\n"
   ]
  },
  {
   "cell_type": "code",
   "execution_count": 11,
   "metadata": {
    "collapsed": false
   },
   "outputs": [
    {
     "name": "stdout",
     "output_type": "stream",
     "text": [
      "Enter the number:5\n",
      "The prime numbers in the given range is:\n",
      "[2, 3, 5]\n"
     ]
    }
   ],
   "source": [
    "\n",
    "#prime numbers in a given range using list comprehension\n",
    "n=int(input('Enter the number:'))\n",
    "list1=[y for x in (2,3,5,7) for y in range(x*2,n,x)]\n",
    "print('The prime numbers in the given range is:')\n",
    "list2=[x for x in range(2,n+1) if x not in list1]\n",
    "print(list2)\n"
   ]
  },
  {
   "cell_type": "code",
   "execution_count": null,
   "metadata": {
    "collapsed": true
   },
   "outputs": [],
   "source": []
  }
 ],
 "metadata": {
  "anaconda-cloud": {},
  "kernelspec": {
   "display_name": "Python [default]",
   "language": "python",
   "name": "python3"
  },
  "language_info": {
   "codemirror_mode": {
    "name": "ipython",
    "version": 3
   },
   "file_extension": ".py",
   "mimetype": "text/x-python",
   "name": "python",
   "nbconvert_exporter": "python",
   "pygments_lexer": "ipython3",
   "version": "3.5.2"
  }
 },
 "nbformat": 4,
 "nbformat_minor": 1
}
