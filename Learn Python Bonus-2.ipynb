{
 "cells": [
  {
   "cell_type": "code",
   "execution_count": 10,
   "metadata": {
    "collapsed": false
   },
   "outputs": [
    {
     "name": "stdout",
     "output_type": "stream",
     "text": [
      "Enter any number :24\n",
      "24 Number entered\n",
      "24  is even not weired\n"
     ]
    }
   ],
   "source": [
    "l = int (input (\"Enter any number :\"))\n",
    "print (l, \"Number entered\")\n",
    "\n",
    "if l % 2 == 0:\n",
    "    if l in range(0,6):\n",
    "        print(l, \"is even Not weired\")\n",
    "    elif l in range (6,21):\n",
    "        print (l, \"is even weired\")\n",
    "    elif l in range (21, 100):\n",
    "        print (l, \" is even not weired\")\n",
    "else:\n",
    "    if l in range (0,6):\n",
    "        print (l , \"is odd and weired\")\n",
    "        "
   ]
  },
  {
   "cell_type": "code",
   "execution_count": 11,
   "metadata": {
    "collapsed": false
   },
   "outputs": [
    {
     "name": "stdout",
     "output_type": "stream",
     "text": [
      "Enter First Number 5\n",
      "Enter the second Number 2\n",
      "7 Addition\n",
      "3 Subtraction\n",
      "10 Multiplication\n"
     ]
    }
   ],
   "source": [
    "m = int (input (\"Enter First Number \"))\n",
    "n = int (input (\"Enter the second Number \"))\n",
    "\n",
    "print (m + n, \"Addition\")\n",
    "print (m - n, \"Subtraction\")\n",
    "print (m * n, \"Multiplication\")\n"
   ]
  },
  {
   "cell_type": "code",
   "execution_count": 12,
   "metadata": {
    "collapsed": false
   },
   "outputs": [
    {
     "name": "stdout",
     "output_type": "stream",
     "text": [
      "Enter First Number 4\n",
      "Enter the second Number 3\n",
      "1.3333333333333333 Normal Division\n",
      "1 Floor Division\n"
     ]
    }
   ],
   "source": [
    "x = int (input (\"Enter First Number \"))\n",
    "y = int (input (\"Enter the second Number \"))\n",
    "\n",
    "print (x / y , \"Normal Division\")\n",
    "print (x // y, \"Floor Division\")\n"
   ]
  },
  {
   "cell_type": "code",
   "execution_count": 15,
   "metadata": {
    "collapsed": false
   },
   "outputs": [
    {
     "name": "stdout",
     "output_type": "stream",
     "text": [
      "Enter any number :5\n",
      "Number is 0 It's square is 0\n",
      "Number is 1 It's square is 1\n",
      "Number is 2 It's square is 4\n",
      "Number is 3 It's square is 9\n",
      "Number is 4 It's square is 16\n"
     ]
    }
   ],
   "source": [
    "a = int (input (\"Enter any number :\"))\n",
    "\n",
    "for i in range(0,a):\n",
    "    print (\"Number is\", i, \"It's square is\", i**2)"
   ]
  },
  {
   "cell_type": "code",
   "execution_count": 18,
   "metadata": {
    "collapsed": false
   },
   "outputs": [
    {
     "name": "stdout",
     "output_type": "stream",
     "text": [
      "Enter a year2000\n",
      "True Leap Year\n"
     ]
    }
   ],
   "source": [
    "def ly(x):\n",
    "    if x % 4 == 0:\n",
    "        print (\"True\",\"Leap Year\")\n",
    "    else:\n",
    "        print(\"False\", \"Not a leap year\")\n",
    "        \n",
    "am = int (input (\"Enter a year\"))\n",
    "        \n",
    "ly(am)"
   ]
  },
  {
   "cell_type": "code",
   "execution_count": 25,
   "metadata": {
    "collapsed": false
   },
   "outputs": [
    {
     "name": "stdout",
     "output_type": "stream",
     "text": [
      "Enter any number5\n",
      "12345\n"
     ]
    }
   ],
   "source": [
    "a = int (input(\"Enter any number\"))\n",
    "b = \"\"\n",
    "for i in range(a,0,-1):\n",
    "    b = str(i) + b\n",
    "print(b)"
   ]
  },
  {
   "cell_type": "code",
   "execution_count": 43,
   "metadata": {
    "collapsed": false
   },
   "outputs": [
    {
     "name": "stdout",
     "output_type": "stream",
     "text": [
      "[6, 5, 10]\n",
      "[5, 10]\n",
      "[5, 10, 9, 1]\n",
      "[1, 5, 9, 10]\n",
      "[1, 5, 9]\n",
      "[9, 5, 1]\n"
     ]
    }
   ],
   "source": [
    "l = []\n",
    "l.insert(0,5)\n",
    "l.insert(1,10)\n",
    "l.insert(0,6)\n",
    "\n",
    "print (l)\n",
    "\n",
    "l.remove(6)\n",
    "print(l)\n",
    "\n",
    "l.append(9)\n",
    "l.append(1)\n",
    "\n",
    "print(l)\n",
    "\n",
    "l1 = []\n",
    "for i in sorted(set(l)):\n",
    "    l1.append(i)\n",
    "\n",
    "print(l1)\n",
    "\n",
    "l1.pop()\n",
    "\n",
    "print(l1)\n",
    "\n",
    "l1.reverse()\n",
    "print(l1)"
   ]
  },
  {
   "cell_type": "code",
   "execution_count": 48,
   "metadata": {
    "collapsed": false
   },
   "outputs": [
    {
     "name": "stdout",
     "output_type": "stream",
     "text": [
      "Enter any number5\n",
      "(1, 2, 3, 4)\n",
      "485696759010151909\n"
     ]
    }
   ],
   "source": [
    "s = int (input (\"Enter any number\"))\n",
    "t =()\n",
    "for i in range(1,s):\n",
    "    t = t + (i,)\n",
    "print(t)\n",
    "print(hash(t))"
   ]
  },
  {
   "cell_type": "code",
   "execution_count": 55,
   "metadata": {
    "collapsed": false
   },
   "outputs": [
    {
     "name": "stdout",
     "output_type": "stream",
     "text": [
      "Enter X Axis1\n",
      "Enter Y Axis1\n",
      "Enter Z Axis1\n",
      "Enter N Axis1\n",
      "[[0, 0, 0], [0, 1, 1], [1, 0, 1], [1, 1, 0], [1, 1, 1]]\n"
     ]
    }
   ],
   "source": [
    "x = int ( input(\"Enter X Axis\"))\n",
    "y = int ( input(\"Enter Y Axis\"))\n",
    "z = int ( input(\"Enter Z Axis\"))\n",
    "n = int ( input(\"Enter N Axis\"))\n",
    "ant = [[i, j, k] for i in range(0,x + 1) for j in range(0,y + 1) for k in range(0,z + 1) if i + j + k != n]\n",
    "print(ant)"
   ]
  },
  {
   "cell_type": "code",
   "execution_count": 59,
   "metadata": {
    "collapsed": false
   },
   "outputs": [
    {
     "name": "stdout",
     "output_type": "stream",
     "text": [
      "Enter X Axis1\n",
      "Enter Y Axis1\n",
      "Enter Z Axis1\n",
      "Enter N Axis1\n",
      "[0, 0, 0]\n",
      "[0, 1, 1]\n",
      "[1, 0, 1]\n",
      "[1, 1, 0]\n",
      "[1, 1, 1]\n"
     ]
    }
   ],
   "source": [
    "x = int ( input(\"Enter X Axis\"))\n",
    "y = int ( input(\"Enter Y Axis\"))\n",
    "z = int ( input(\"Enter Z Axis\"))\n",
    "n = int ( input(\"Enter N Axis\"))\n",
    "\n",
    "ant = []\n",
    "for i in range (0, x+1):\n",
    "    for j in range (0, y+1):\n",
    "        for k in range (0, z+1):\n",
    "            if i + j + k != n:\n",
    "                print([i,j,k])\n",
    "                \n"
   ]
  },
  {
   "cell_type": "code",
   "execution_count": 66,
   "metadata": {
    "collapsed": false
   },
   "outputs": [
    {
     "data": {
      "text/plain": [
       "26"
      ]
     },
     "execution_count": 66,
     "metadata": {},
     "output_type": "execute_result"
    }
   ],
   "source": [
    "el = [10,20,25,12,32,26]\n",
    "#import heapq\n",
    "#heapq.nlargest(2, el)\n",
    "sorted(el)[-2]"
   ]
  },
  {
   "cell_type": "code",
   "execution_count": 71,
   "metadata": {
    "collapsed": false
   },
   "outputs": [
    {
     "name": "stdout",
     "output_type": "stream",
     "text": [
      "SHUBHAM\n",
      "shubham\n"
     ]
    }
   ],
   "source": [
    "s = input()\n",
    "\n",
    "print(s.swapcase())"
   ]
  },
  {
   "cell_type": "code",
   "execution_count": 73,
   "metadata": {
    "collapsed": false
   },
   "outputs": [
    {
     "name": "stdout",
     "output_type": "stream",
     "text": [
      "shubham kumar gupta\n",
      "['shubham', 'kumar', 'gupta']\n",
      "shubham-kumar-gupta\n"
     ]
    }
   ],
   "source": [
    "s = input()\n",
    "\n",
    "s=s.split(\" \")\n",
    "\n",
    "print(s)\n",
    "\n",
    "s=\"-\".join(s)\n",
    "\n",
    "print(s)"
   ]
  },
  {
   "cell_type": "code",
   "execution_count": 74,
   "metadata": {
    "collapsed": false
   },
   "outputs": [
    {
     "name": "stdout",
     "output_type": "stream",
     "text": [
      "shubham\n",
      "gupta\n",
      "Your first name is  shubham Your last name is  gupta\n"
     ]
    }
   ],
   "source": [
    "#input should not be single names\n",
    "a = input()\n",
    "b = input()\n",
    "\n",
    "print(\"Your first name is \", a, \"Your last name is \", b)"
   ]
  },
  {
   "cell_type": "code",
   "execution_count": 76,
   "metadata": {
    "collapsed": false
   },
   "outputs": [
    {
     "name": "stdout",
     "output_type": "stream",
     "text": [
      "abracadabra\n",
      "abr\n",
      "2\n"
     ]
    }
   ],
   "source": [
    "line, target = [input() for _ in range(2)]\n",
    "score = 0\n",
    "for i in range(len(line)):\n",
    "    if line[i:i+len(target)] == target:\n",
    "        score += 1\n",
    "print(score)"
   ]
  },
  {
   "cell_type": "code",
   "execution_count": 82,
   "metadata": {
    "collapsed": false
   },
   "outputs": [
    {
     "data": {
      "text/plain": [
       "False"
      ]
     },
     "execution_count": 82,
     "metadata": {},
     "output_type": "execute_result"
    }
   ],
   "source": [
    "    d1 = {\"john\":40, \"peter\":45}\n",
    "\n",
    "    d2 = {\"john\":466, \"peter\":45}\n",
    "\n",
    "    d1 == d2"
   ]
  },
  {
   "cell_type": "code",
   "execution_count": 88,
   "metadata": {
    "collapsed": false
   },
   "outputs": [
    {
     "name": "stdout",
     "output_type": "stream",
     "text": [
      "40\n"
     ]
    }
   ],
   "source": [
    "d = {\"john\":40, \"peter\":45}\n",
    "#del d[\"john\"]\n",
    "\n",
    "print (d.get(\"john\",56))\n",
    "    "
   ]
  },
  {
   "cell_type": "code",
   "execution_count": 87,
   "metadata": {
    "collapsed": false
   },
   "outputs": [
    {
     "name": "stdout",
     "output_type": "stream",
     "text": [
      "A\n"
     ]
    }
   ],
   "source": [
    "a={1:\"A\",2:\"B\",3:\"C\"}\n",
    "print(a.get(1,4))"
   ]
  },
  {
   "cell_type": "code",
   "execution_count": 89,
   "metadata": {
    "collapsed": false
   },
   "outputs": [
    {
     "name": "stdout",
     "output_type": "stream",
     "text": [
      "C\n"
     ]
    }
   ],
   "source": [
    "a={1:\"A\",2:\"B\",3:\"C\"}\n",
    "print(a.setdefault(3))"
   ]
  },
  {
   "cell_type": "code",
   "execution_count": 90,
   "metadata": {
    "collapsed": false
   },
   "outputs": [
    {
     "name": "stdout",
     "output_type": "stream",
     "text": [
      "9\n"
     ]
    }
   ],
   "source": [
    "a={1:5,2:3,3:4}\n",
    "print(a.pop(4,9))"
   ]
  },
  {
   "cell_type": "code",
   "execution_count": 91,
   "metadata": {
    "collapsed": false
   },
   "outputs": [
    {
     "data": {
      "text/plain": [
       "dict_items([(1, 'A'), (2, 'B'), (3, 'C')])"
      ]
     },
     "execution_count": 91,
     "metadata": {},
     "output_type": "execute_result"
    }
   ],
   "source": [
    "a={1:\"A\",2:\"B\",3:\"C\"}\n",
    "a.items()"
   ]
  },
  {
   "cell_type": "code",
   "execution_count": 94,
   "metadata": {
    "collapsed": false
   },
   "outputs": [
    {
     "name": "stdout",
     "output_type": "stream",
     "text": [
      "{}\n",
      "{1: 1}\n",
      "{1: 1, '1': 2}\n",
      "{1: 2, '1': 2}\n",
      "4\n"
     ]
    }
   ],
   "source": [
    "a = {}\n",
    "print(a)\n",
    "a[1] = 1\n",
    "print(a)\n",
    "a['1'] = 2\n",
    "print(a)\n",
    "a[1]=a[1]+1\n",
    "print(a)\n",
    "count = 0\n",
    "for i in a:\n",
    "    count += a[i]\n",
    "print(count)"
   ]
  },
  {
   "cell_type": "code",
   "execution_count": 95,
   "metadata": {
    "collapsed": false
   },
   "outputs": [
    {
     "name": "stdout",
     "output_type": "stream",
     "text": [
      "{}\n",
      "{1: 1}\n",
      "{1: 1, '1': 2}\n",
      "{1: 4, '1': 2}\n",
      "6\n"
     ]
    }
   ],
   "source": [
    "a = {}\n",
    "print(a)\n",
    "a[1] = 1\n",
    "print(a)\n",
    "a['1'] = 2\n",
    "print(a)\n",
    "a[1.0]=4\n",
    "print(a)\n",
    "count = 0\n",
    "for i in a:\n",
    "    count += a[i]\n",
    "print(count)"
   ]
  },
  {
   "cell_type": "code",
   "execution_count": 96,
   "metadata": {
    "collapsed": false
   },
   "outputs": [
    {
     "data": {
      "text/plain": [
       "Counter({1: 2, 2: 1, 3: 2, 4: 3})"
      ]
     },
     "execution_count": 96,
     "metadata": {},
     "output_type": "execute_result"
    }
   ],
   "source": [
    "import collections\n",
    "a=collections.Counter([1,1,2,3,3,4,4,4])\n",
    "a"
   ]
  },
  {
   "cell_type": "code",
   "execution_count": 97,
   "metadata": {
    "collapsed": false
   },
   "outputs": [
    {
     "name": "stdout",
     "output_type": "stream",
     "text": [
      "{'test': 7}\n"
     ]
    }
   ],
   "source": [
    "class demo(dict):\n",
    "  def __test__(self,key):\n",
    "    return []\n",
    "a = demo()\n",
    "a['test'] = 7\n",
    "print(a)"
   ]
  },
  {
   "cell_type": "code",
   "execution_count": 98,
   "metadata": {
    "collapsed": false
   },
   "outputs": [
    {
     "data": {
      "text/plain": [
       "{0: 'A0', 1: 'A1', 2: 'A2', 3: 'A3', 4: 'A4'}"
      ]
     },
     "execution_count": 98,
     "metadata": {},
     "output_type": "execute_result"
    }
   ],
   "source": [
    "a={i: 'A' + str(i) for i in range(5)}\n",
    "a"
   ]
  },
  {
   "cell_type": "code",
   "execution_count": 99,
   "metadata": {
    "collapsed": false
   },
   "outputs": [
    {
     "data": {
      "text/plain": [
       "{1: 'a', 2: 'b', 3: 'c'}"
      ]
     },
     "execution_count": 99,
     "metadata": {},
     "output_type": "execute_result"
    }
   ],
   "source": [
    "a={\"a\":1,\"b\":2,\"c\":3}\n",
    "b=dict(zip(a.values(),a.keys()))\n",
    "b"
   ]
  },
  {
   "cell_type": "code",
   "execution_count": 102,
   "metadata": {
    "collapsed": false
   },
   "outputs": [
    {
     "ename": "KeyError",
     "evalue": "1",
     "output_type": "error",
     "traceback": [
      "\u001b[0;31m---------------------------------------------------------------------------\u001b[0m",
      "\u001b[0;31mKeyError\u001b[0m                                  Traceback (most recent call last)",
      "\u001b[0;32m<ipython-input-102-3e4aafd5855f>\u001b[0m in \u001b[0;36m<module>\u001b[0;34m()\u001b[0m\n\u001b[1;32m      1\u001b[0m \u001b[0ma\u001b[0m\u001b[0;34m=\u001b[0m\u001b[0mdict\u001b[0m\u001b[0;34m(\u001b[0m\u001b[0;34m)\u001b[0m\u001b[0;34m\u001b[0m\u001b[0m\n\u001b[0;32m----> 2\u001b[0;31m \u001b[0ma\u001b[0m\u001b[0;34m[\u001b[0m\u001b[0;36m1\u001b[0m\u001b[0;34m]\u001b[0m\u001b[0;34m\u001b[0m\u001b[0m\n\u001b[0m",
      "\u001b[0;31mKeyError\u001b[0m: 1"
     ]
    }
   ],
   "source": [
    "a=dict()\n",
    "a[1]"
   ]
  },
  {
   "cell_type": "code",
   "execution_count": 103,
   "metadata": {
    "collapsed": false
   },
   "outputs": [
    {
     "data": {
      "text/plain": [
       "''"
      ]
     },
     "execution_count": 103,
     "metadata": {},
     "output_type": "execute_result"
    }
   ],
   "source": [
    "import collections\n",
    ">>> a=dict()\n",
    ">>> a=collections.defaultdict(str)\n",
    ">>> a['A']"
   ]
  }
 ],
 "metadata": {
  "anaconda-cloud": {},
  "kernelspec": {
   "display_name": "Python [default]",
   "language": "python",
   "name": "python3"
  },
  "language_info": {
   "codemirror_mode": {
    "name": "ipython",
    "version": 3
   },
   "file_extension": ".py",
   "mimetype": "text/x-python",
   "name": "python",
   "nbconvert_exporter": "python",
   "pygments_lexer": "ipython3",
   "version": "3.5.2"
  }
 },
 "nbformat": 4,
 "nbformat_minor": 1
}
