{
 "cells": [
  {
   "cell_type": "code",
   "execution_count": 1,
   "metadata": {
    "collapsed": false
   },
   "outputs": [
    {
     "name": "stdout",
     "output_type": "stream",
     "text": [
      "True\n"
     ]
    }
   ],
   "source": [
    "# Functions\n",
    "\n",
    "# # Q24. Define a function overlapping() that takes two lists and returns True if they have at least one member in common, False otherwise.\n",
    "\n",
    "\n",
    "def overlapping(l1=[],l2=[]):\n",
    "    b1 = False\n",
    "    for i in l1:\n",
    "        if i in l2:\n",
    "            b1 = True\n",
    "            break\n",
    "    print(b1)\n",
    "\n",
    "list1 = [1,2,5,7,9]\n",
    "list2 = [4,3,8,5,6]\n",
    "overlapping(list1,list2)\n",
    "\n",
    "\n"
   ]
  },
  {
   "cell_type": "code",
   "execution_count": 2,
   "metadata": {
    "collapsed": false
   },
   "outputs": [
    {
     "name": "stdout",
     "output_type": "stream",
     "text": [
      "Enter list of words:shubham kumar gupta\n"
     ]
    },
    {
     "data": {
      "text/plain": [
       "(7, 'shubham')"
      ]
     },
     "execution_count": 2,
     "metadata": {},
     "output_type": "execute_result"
    }
   ],
   "source": [
    "# # Q25. Write a function find_longest_word() that takes a list of words and returns the length of the longest one.\n",
    "\n",
    "\n",
    "def find_longest_word(l1):\n",
    "    a = []\n",
    "    for word in l1:\n",
    "        a.append(len(word))\n",
    "    return max(a),l1[a.index(max(a))]\n",
    "\n",
    "list1 = (input('Enter list of words:')).split(\" \")\n",
    "find_longest_word(list1)\n"
   ]
  },
  {
   "cell_type": "code",
   "execution_count": 3,
   "metadata": {
    "collapsed": false
   },
   "outputs": [
    {
     "name": "stdout",
     "output_type": "stream",
     "text": [
      "Enter the word:go\n"
     ]
    },
    {
     "data": {
      "text/plain": [
       "'going'"
      ]
     },
     "execution_count": 3,
     "metadata": {},
     "output_type": "execute_result"
    }
   ],
   "source": [
    "# # Q26. In English, present participle is formed by adding suffix -ing to infinite form: go going. A simple set of heuristic rules can be given as follows:\n",
    "# # If the verb ends in e, drop the e and add ing (if not exception: be, see, flee, knee, etc.)\n",
    "# # If the verb ends in ie, change ie to y and add ing.\n",
    "# # 26. In English, present participle is formed by adding suffix -ing to infinite form: go going. A simple set of heuristic rules can be given as follows:\n",
    "# # If the verb ends in e, drop the e and add ing (if not exception: be, see, flee, knee, etc.)\n",
    "\n",
    "def make_ing_form(s1):\n",
    "    s2 = 'ing'\n",
    "    t=('a', 'e', 'i', 'o', 'u')\n",
    "    t2 =('be','see','flee','knee')\n",
    "    i = len(s1)-1\n",
    "    if s1[i] == 'e' and s1 not in t2:\n",
    "        if s1[i-1] == 'i':\n",
    "            s3 = s1[0:i-1] + 'y' + s2\n",
    "        else:\n",
    "            s3 = s1[0:i] + s2\n",
    "    elif s1[i] not in t and s1[i-1] in t and s1[i-2] not in t:\n",
    "        s3 = s1 + s1[i] + s2\n",
    "    else:\n",
    "        s3 = s1 + s2\n",
    "    return s3\n",
    "\n",
    "string1 = input('Enter the word:')  \n",
    "make_ing_form(string1)\n",
    "\n"
   ]
  },
  {
   "cell_type": "code",
   "execution_count": null,
   "metadata": {
    "collapsed": true
   },
   "outputs": [],
   "source": []
  }
 ],
 "metadata": {
  "anaconda-cloud": {},
  "kernelspec": {
   "display_name": "Python [default]",
   "language": "python",
   "name": "python3"
  },
  "language_info": {
   "codemirror_mode": {
    "name": "ipython",
    "version": 3
   },
   "file_extension": ".py",
   "mimetype": "text/x-python",
   "name": "python",
   "nbconvert_exporter": "python",
   "pygments_lexer": "ipython3",
   "version": "3.5.2"
  }
 },
 "nbformat": 4,
 "nbformat_minor": 1
}
