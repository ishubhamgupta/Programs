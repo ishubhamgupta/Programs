{
 "cells": [
  {
   "cell_type": "code",
   "execution_count": 1,
   "metadata": {
    "collapsed": false
   },
   "outputs": [
    {
     "data": {
      "text/plain": [
       "'5000402.000'"
      ]
     },
     "execution_count": 1,
     "metadata": {},
     "output_type": "execute_result"
    }
   ],
   "source": [
    "# # Q1. Use the “format” function to display the following floating-point values with three decimal digits of precision.\n",
    "\n",
    "\n",
    "\n",
    "format(4580.5034,'.3f')\n",
    "\n",
    "\n",
    "\n",
    "\n",
    "\n",
    "format(.00000046004,'.3f')\n",
    "\n",
    "\n",
    "\n",
    "\n",
    "format(5000402.000000000006,'.3f')\n",
    "\n",
    "\n"
   ]
  },
  {
   "cell_type": "code",
   "execution_count": 2,
   "metadata": {
    "collapsed": false
   },
   "outputs": [
    {
     "name": "stdout",
     "output_type": "stream",
     "text": [
      "CDAC\n",
      "Old Madras Road\n",
      "Bangalore\n"
     ]
    }
   ],
   "source": [
    "# # Q2. Give a call to print that is provided one string that displays the following address on three separate lines.\n",
    "\n",
    "\n",
    "\n",
    "def address():\n",
    "    print('CDAC\\nOld Madras Road\\nBangalore')\n",
    "address()"
   ]
  },
  {
   "cell_type": "code",
   "execution_count": 3,
   "metadata": {
    "collapsed": false
   },
   "outputs": [
    {
     "name": "stdout",
     "output_type": "stream",
     "text": [
      "15\n",
      "15\n",
      "139708547476448\n",
      "139708547476448\n"
     ]
    }
   ],
   "source": [
    "# # Q3. What is the value of variables num1 and num2 after the following instructions are executed?\n",
    "\n",
    "\n",
    "num=5\n",
    "k=5\n",
    "num1=num+k*2\n",
    "num2=num+k*2\n",
    "print(num1)\n",
    "print(num2)\n",
    "print(id(num1))\n",
    "print(id(num2))"
   ]
  },
  {
   "cell_type": "code",
   "execution_count": 4,
   "metadata": {
    "collapsed": false
   },
   "outputs": [
    {
     "name": "stdout",
     "output_type": "stream",
     "text": [
      "-34991990\n",
      "0.0\n",
      "37.0\n"
     ]
    }
   ],
   "source": [
    "\n",
    "# # Q4. Evaluate the following expressions. (Use operator precedence and associativity).\n",
    "\n",
    "\n",
    "var1=10\n",
    "var2=30\n",
    "var3=2\n",
    "print(var1-6**4*var2**3)\n",
    "print(var1//var2/var3)\n",
    "print(var1*var2/4//var3)\n",
    "\n"
   ]
  },
  {
   "cell_type": "code",
   "execution_count": 7,
   "metadata": {
    "collapsed": false
   },
   "outputs": [
    {
     "name": "stdout",
     "output_type": "stream",
     "text": [
      "Enter a letter:a\n",
      "97\n"
     ]
    }
   ],
   "source": [
    "# # Q5. Write a Python program that prompts the user to enter an upper or lower case letter and displays the corresponding Unicode encoding.\n",
    "\n",
    "\n",
    "letter = input('Enter a letter:')\n",
    "print(ord(letter))\n",
    "\n"
   ]
  },
  {
   "cell_type": "code",
   "execution_count": 9,
   "metadata": {
    "collapsed": false
   },
   "outputs": [
    {
     "name": "stdout",
     "output_type": "stream",
     "text": [
      "Enter Age :    5\n",
      "\n",
      " \n",
      "\n",
      "Breaths per Minute are\n",
      "73584000.0\n",
      "Heartbeat per Minute are\n",
      "177390000.0\n"
     ]
    }
   ],
   "source": [
    "# # Q6. Develop and test a program that prompts the user for their age and determines approximately how many breaths and how many heartbeats the person has had in their life. The average respiration (breath) rate of people changes during different stages of development. Use the breath rates given below for use in your program:\n",
    "# \n",
    "\n",
    "i=float(input(\"Enter Age :    \"))\n",
    "\n",
    "print(\"\\n \\n\")\n",
    "\n",
    " \n",
    "if(float(i)>0 and float(i)<=1):\n",
    "    print(\"Breaths per Minute are\")\n",
    "    print(i*365*24*60*45)\n",
    "    print(\"Heartbeat per Minute are\")\n",
    "    print(i*365*24*60*67.5)\n",
    "    \n",
    "elif(float(i)>1 and float(i)<=4):\n",
    "    print(\"Breaths per Minute are\")\n",
    "    print((1*365*24*60*45)+((i-1)*365*24*60*25))\n",
    "    print(\"Heartbeat per Minute are\")\n",
    "    print(i*365*24*60*67.5)\n",
    "\n",
    "elif(float(i)>4 and float(i)<=14):\n",
    "    print(\"Breaths per Minute are\")\n",
    "    print((1*365*24*60*45)+((3*365*24*60*25)+((i-4)*365*24*60*20)))\n",
    "    print(\"Heartbeat per Minute are\")\n",
    "    print(i*365*24*60*67.5)\n",
    "\n",
    "elif(float(i)>14):\n",
    "    print(\"Breaths per Minute are\")\n",
    "    print((1*365*24*60*45)+(3*365*24*60*25)+(10*365*24*60*20)+((i-14)*365*24*60*16))\n",
    "    print(\"Heartbeat per Minute are\")\n",
    "    print(i*365*24*60*67.5)\n",
    "    \n",
    "\n"
   ]
  },
  {
   "cell_type": "code",
   "execution_count": 12,
   "metadata": {
    "collapsed": false
   },
   "outputs": [
    {
     "name": "stdout",
     "output_type": "stream",
     "text": [
      "Enter the number1 :5\n",
      "Enter the number2 :6\n",
      "Enter operation you want to perform: '+','-','*' and '/' :  +\n",
      "Result is.... 11.0\n"
     ]
    }
   ],
   "source": [
    "\n",
    "# # Q7. Write a program to implement a simple calculator that can add, subtract, multiply and divide two integers.\n",
    "def calculator():\n",
    "    try:\n",
    "        calculations()\n",
    "    except ValueError:\n",
    "        print(\"Please Enter valid numbers\")\n",
    "        calculator()\n",
    "        \n",
    "def calculations():\n",
    "    num1= float(input(\"Enter the number1 :\"))\n",
    "    num2= float(input(\"Enter the number2 :\"))\n",
    "    if(type(num1) is str or type(num2) is str):\n",
    "        raise ValueError\n",
    "    else:\n",
    "        opt = input(\"Enter operation you want to perform: '+','-','*' and '/' :  \")\n",
    "        if(opt is \"+\"):\n",
    "            print(\"Result is....\",num1+num2)\n",
    "        elif(opt is \"-\"):\n",
    "            print(\"Result is....\",num1-num2) \n",
    "        elif(opt is \"*\"):\n",
    "            print(\"Result is....\",num1*num2)\n",
    "        elif(opt is \"/\"):\n",
    "            try:\n",
    "                print(\"Result is....\",num1/num2)\n",
    "            except ZeroDivisionError:\n",
    "                print(\"Cannot Divisible by zero\")\n",
    "                calculator()\n",
    "        else:\n",
    "            print(\"Invalid Input\")\n",
    "            calculator()\n",
    "        \n",
    "calculator()\n"
   ]
  },
  {
   "cell_type": "code",
   "execution_count": 13,
   "metadata": {
    "collapsed": false
   },
   "outputs": [
    {
     "name": "stdout",
     "output_type": "stream",
     "text": [
      "Multiplication table of 5\n",
      "5 *  1  =  5\n",
      "5 *  2  =  10\n",
      "5 *  3  =  15\n",
      "5 *  4  =  20\n",
      "5 *  5  =  25\n",
      "5 *  6  =  30\n",
      "5 *  7  =  35\n",
      "5 *  8  =  40\n",
      "5 *  9  =  45\n",
      "5 *  10  =  50\n"
     ]
    }
   ],
   "source": [
    "# # Q8. Write a simple python program to print the multiplication table of 5.\n",
    "\n",
    "\n",
    "\n",
    "print('Multiplication table of 5')\n",
    "i=1\n",
    "while i<=10:\n",
    "    print('5 * ',i,' = ',5*i)\n",
    "    i=i+1\n"
   ]
  },
  {
   "cell_type": "code",
   "execution_count": 14,
   "metadata": {
    "collapsed": false
   },
   "outputs": [
    {
     "name": "stdout",
     "output_type": "stream",
     "text": [
      "Enter a number:5\n",
      "5  is not a perfect number\n"
     ]
    }
   ],
   "source": [
    "\n",
    "# # Q9. Write a program to check whether the given number is perfect number or not.\n",
    "\n",
    "num1=int(input('Enter a number:'))\n",
    "sum=0\n",
    "i=1\n",
    "while i<num1:\n",
    "    if num1%i==0:\n",
    "        sum=sum+i\n",
    "    i=i+1\n",
    "if num1==sum:\n",
    "    print(num1,' is a perfect number')\n",
    "else:\n",
    "    print(num1,' is not a perfect number')\n",
    "\n"
   ]
  },
  {
   "cell_type": "code",
   "execution_count": 15,
   "metadata": {
    "collapsed": false
   },
   "outputs": [
    {
     "name": "stdout",
     "output_type": "stream",
     "text": [
      "Enter a number:9\n",
      "The number  9  =  2  +  7\n"
     ]
    }
   ],
   "source": [
    "# # Q10. Write a program to check whether a number can be expanded as the sum of two prime numbers.\n",
    "\n",
    "# In[42]:\n",
    "\n",
    "num1=int(input('Enter a number:'))\n",
    "a=[]\n",
    "i,sum=2,0\n",
    "b1,b2=False,False\n",
    "while i<num1:\n",
    "    for j in range(2,i):\n",
    "        if i%j==0:\n",
    "            b1=True\n",
    "            break\n",
    "        else:\n",
    "            b1=False\n",
    "    if b1==False:\n",
    "        a.append(i)\n",
    "    i=i+1\n",
    "for i1 in a:\n",
    "    for i2 in a:\n",
    "        sum=i1+i2\n",
    "        if num1==sum:\n",
    "            print('The number ',num1,' = ',i1,' + ',i2)\n",
    "            b2=True\n",
    "            break\n",
    "    if b2==True:\n",
    "        break\n",
    "else:\n",
    "    print(num1,' is not a sum of prime numbers')\n",
    "\n",
    "\n"
   ]
  },
  {
   "cell_type": "code",
   "execution_count": 16,
   "metadata": {
    "collapsed": false
   },
   "outputs": [
    {
     "name": "stdout",
     "output_type": "stream",
     "text": [
      "Enter a number: 9\n",
      "The Number  9  =  2  +  7\n"
     ]
    }
   ],
   "source": [
    "# Second Method\n",
    "\n",
    "\n",
    "\n",
    "# In[27]:\n",
    "\n",
    "num1=int(input(\"Enter a number: \"))\n",
    "i,j=2,num1-2\n",
    "b1,b2=False,False\n",
    "while i<=j:\n",
    "    for i1 in range(2,i):\n",
    "        if i%i1==0:\n",
    "            b1=True\n",
    "            break\n",
    "        else:\n",
    "            b1=False\n",
    "    for i2 in range(2,j):\n",
    "        if j%i2==0:\n",
    "            b2=True\n",
    "            break\n",
    "        else:\n",
    "            b2=False\n",
    "    if b1==False and b2==False:\n",
    "        print('The Number ',num1, ' = ',i,' + ',j)\n",
    "        break\n",
    "    i=i+1\n",
    "    j=j-1\n",
    "else:\n",
    "    print(num1,' is not sum of prime numbers')\n",
    "\n"
   ]
  },
  {
   "cell_type": "code",
   "execution_count": 17,
   "metadata": {
    "collapsed": false
   },
   "outputs": [
    {
     "name": "stdout",
     "output_type": "stream",
     "text": [
      "Enter the no: of rows:5\n",
      "     0\n",
      "    101\n",
      "   21012\n",
      "  3210123\n",
      " 432101234\n"
     ]
    }
   ],
   "source": [
    "\n",
    "# # Q11. Write a Python program to create the followingtriangle.\n",
    "\n",
    "\n",
    "\n",
    "row=int(input('Enter the no: of rows:'))\n",
    "i=0\n",
    "k=i\n",
    "while i<row:\n",
    "    print(' '*(row-i),end=\"\")\n",
    "    for j in range(0,row):\n",
    "        print(k,end=\"\")\n",
    "        k=k-1\n",
    "        if k<0:\n",
    "            break\n",
    "    if i>0:\n",
    "        for j in range(1,i+1):\n",
    "            print(j,end=\"\")\n",
    "    i=i+1\n",
    "    k=i\n",
    "    print('\\r')\n",
    "\n",
    "\n"
   ]
  },
  {
   "cell_type": "code",
   "execution_count": 18,
   "metadata": {
    "collapsed": false
   },
   "outputs": [
    {
     "name": "stdout",
     "output_type": "stream",
     "text": [
      "Enter no: of rows:5\n",
      "     0\n",
      "    101\n",
      "   21012\n",
      "  3210123\n",
      " 432101234\n"
     ]
    }
   ],
   "source": [
    "#Second MEthos\n",
    "\n",
    "row=int(input('Enter no: of rows:'))\n",
    "for i in range(0,row):\n",
    "    print(' '*(row-i),end=\"\")\n",
    "    k=i\n",
    "    for j1 in range(0,i):\n",
    "        print(k,end=\"\")\n",
    "        k=k-1\n",
    "    for j2 in range(0,i+1):\n",
    "        print(j2,end=\"\")\n",
    "    print('\\r')"
   ]
  },
  {
   "cell_type": "code",
   "execution_count": null,
   "metadata": {
    "collapsed": true
   },
   "outputs": [],
   "source": []
  }
 ],
 "metadata": {
  "anaconda-cloud": {},
  "kernelspec": {
   "display_name": "Python [default]",
   "language": "python",
   "name": "python3"
  },
  "language_info": {
   "codemirror_mode": {
    "name": "ipython",
    "version": 3
   },
   "file_extension": ".py",
   "mimetype": "text/x-python",
   "name": "python",
   "nbconvert_exporter": "python",
   "pygments_lexer": "ipython3",
   "version": "3.5.2"
  }
 },
 "nbformat": 4,
 "nbformat_minor": 1
}
