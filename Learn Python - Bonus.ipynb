{
 "cells": [
  {
   "cell_type": "code",
   "execution_count": null,
   "metadata": {
    "collapsed": false
   },
   "outputs": [],
   "source": [
    "set(range(5))"
   ]
  },
  {
   "cell_type": "code",
   "execution_count": null,
   "metadata": {
    "collapsed": false
   },
   "outputs": [],
   "source": [
    "#Finding Prime \n",
    "\n",
    "for n in range (2,10):\n",
    "    for x in range (2,n):\n",
    "        if n % x == 0:\n",
    "            #print(n, 'equals', x, '*', n//x)\n",
    "            break\n",
    "    else:\n",
    "        print(n,'is a prime number')"
   ]
  },
  {
   "cell_type": "code",
   "execution_count": null,
   "metadata": {
    "collapsed": false
   },
   "outputs": [],
   "source": [
    "#FINDING EVEN Number\n",
    "for num in range (2,10):\n",
    "    if num % 2 == 0:\n",
    "        print(\"Found an even number\", num)\n",
    "        continue\n",
    "    print (\"Found a number\",num)"
   ]
  },
  {
   "cell_type": "code",
   "execution_count": null,
   "metadata": {
    "collapsed": false
   },
   "outputs": [],
   "source": [
    "# Fibnocci Series\n",
    "def fib(n):\n",
    "    \"\"\"Printinga fibnocci series\"\"\"\n",
    "    a,b = 0,1\n",
    "    while a<n:\n",
    "        print(a,end=' ')\n",
    "        a,b =b, a+b\n",
    "    print()\n",
    "    \n",
    "fib(2000)"
   ]
  },
  {
   "cell_type": "code",
   "execution_count": null,
   "metadata": {
    "collapsed": false
   },
   "outputs": [],
   "source": [
    "#Default arguments\n",
    "\n",
    "\n",
    "def f(arg = i):\n",
    "    print (arg)\n",
    "    \n",
    "    \n",
    "i = 6\n",
    "i = 5\n",
    "f()\n",
    "\n",
    "#  5 will be printed as default result"
   ]
  },
  {
   "cell_type": "code",
   "execution_count": null,
   "metadata": {
    "collapsed": false
   },
   "outputs": [],
   "source": [
    "s = [ 1,2,3,4,5,6,7,8,9,10]\n",
    "\n",
    "s [2:7 ] = []\n",
    "\n",
    "print(s)"
   ]
  },
  {
   "cell_type": "code",
   "execution_count": null,
   "metadata": {
    "collapsed": false
   },
   "outputs": [],
   "source": [
    "def f(a, L=[]):\n",
    "    L.append(a)\n",
    "    return L\n",
    "\n",
    "print(f(1))\n",
    "print(f(2))\n",
    "print(f(3))"
   ]
  },
  {
   "cell_type": "code",
   "execution_count": null,
   "metadata": {
    "collapsed": false
   },
   "outputs": [],
   "source": [
    "def concat(*args, sep='/'):\n",
    "    return sep.join(args)\n",
    "\n",
    "concat('earth','mars','venus')"
   ]
  },
  {
   "cell_type": "code",
   "execution_count": null,
   "metadata": {
    "collapsed": false
   },
   "outputs": [],
   "source": [
    "prime_list = [x for x in range(2, 11) for y in range(2,x) if x % x == 0 and x % 1 == 0 and x % y != 0]\n",
    "print(prime_list)"
   ]
  },
  {
   "cell_type": "code",
   "execution_count": null,
   "metadata": {
    "collapsed": false
   },
   "outputs": [],
   "source": [
    "words = ['apple','banana','coconut','dragonfruit']\n",
    "#for w in words:\n",
    " #   print(w, len(w))\n",
    "    \n",
    "for i in words[:]:\n",
    "    if len(i) > 6:\n",
    "        words.insert(-1,i)\n",
    "print(words)"
   ]
  },
  {
   "cell_type": "code",
   "execution_count": null,
   "metadata": {
    "collapsed": false
   },
   "outputs": [],
   "source": [
    "for n in range(2, 10):\n",
    "    for x in range (2, n):\n",
    "        if n % x == 0:\n",
    "            break            \n",
    "    else :\n",
    "        print(n,'its a prime ')"
   ]
  },
  {
   "cell_type": "code",
   "execution_count": null,
   "metadata": {
    "collapsed": false
   },
   "outputs": [],
   "source": [
    "def feb2(n):\n",
    "    result=[]\n",
    "    a,b = 0,1\n",
    "    while a < n:\n",
    "        result.append(a) # we are inserting febonacci series into a list that's why we are appending\n",
    "        a,b = b , a + b\n",
    "    return result\n",
    "\n",
    "feb2(100)"
   ]
  },
  {
   "cell_type": "code",
   "execution_count": null,
   "metadata": {
    "collapsed": false
   },
   "outputs": [],
   "source": [
    "#lambda expression\n",
    "\n",
    "def inc(n):\n",
    "    return lambda x : x + n\n",
    "\n",
    "\n",
    "f = inc(2)\n",
    "\n",
    "f(0)\n",
    "f(1)\n",
    "f(3)"
   ]
  },
  {
   "cell_type": "code",
   "execution_count": null,
   "metadata": {
    "collapsed": false
   },
   "outputs": [],
   "source": [
    "#Data Structures\n",
    "\n",
    "fruits = ['apple','banana','coconut','dragonfruit', 'kiwi', 'apple','banana','orange']\n",
    "fruits.count('apple')\n",
    "fruits.index('kiwi')\n",
    "fruits.index('apple',2)\n",
    "fruits.reverse()\n",
    "fruits\n",
    "fruits.append('grapes')\n",
    "fruits\n",
    "fruits.sort()\n",
    "fruits\n",
    "fruits.pop()"
   ]
  },
  {
   "cell_type": "code",
   "execution_count": null,
   "metadata": {
    "collapsed": false
   },
   "outputs": [],
   "source": [
    "from collections import deque\n",
    "#List as queue\n",
    "\n",
    "queue = deque (['apple','banana','coconut','dragonfruit'])\n",
    "\n",
    "queue.popleft()\n",
    "\n",
    "queue\n",
    "\n",
    "queue.popleft()\n",
    "\n",
    "queue"
   ]
  },
  {
   "cell_type": "code",
   "execution_count": null,
   "metadata": {
    "collapsed": false
   },
   "outputs": [],
   "source": [
    "#List Comprehension\n",
    "#getting squares\n",
    "squares = list(map(lambda x : x ** 2, range(0,10)))\n",
    "\n",
    "squares \n",
    "\n",
    "\n"
   ]
  },
  {
   "cell_type": "code",
   "execution_count": null,
   "metadata": {
    "collapsed": false
   },
   "outputs": [],
   "source": [
    "s = [x ** 2 for x in range(10)]\n",
    "\n",
    "s"
   ]
  },
  {
   "cell_type": "code",
   "execution_count": null,
   "metadata": {
    "collapsed": false
   },
   "outputs": [],
   "source": [
    "[(x,y) for x in [1,2,3] for y in [3,1,4]]"
   ]
  },
  {
   "cell_type": "code",
   "execution_count": null,
   "metadata": {
    "collapsed": false
   },
   "outputs": [],
   "source": [
    "[(x,y) for x in [1,2,3] for y in [3,1,4] if x != y]"
   ]
  },
  {
   "cell_type": "code",
   "execution_count": null,
   "metadata": {
    "collapsed": false
   },
   "outputs": [],
   "source": [
    "vec = [-4, -2, 0, 2, 4]\n",
    "\n",
    "[abs(x) for x in vec]\n",
    "\n",
    "#absolute converts all negative to positive"
   ]
  },
  {
   "cell_type": "code",
   "execution_count": null,
   "metadata": {
    "collapsed": false
   },
   "outputs": [],
   "source": [
    "a = ['apple','  banana','coconut','    dragonfruit']\n",
    "\n",
    "[a1.strip() for a1 in a]\n",
    "\n",
    "#removal of white spaces\n",
    "\n"
   ]
  },
  {
   "cell_type": "code",
   "execution_count": null,
   "metadata": {
    "collapsed": false
   },
   "outputs": [],
   "source": [
    "[(x, x ** 2) for x in range(5)]"
   ]
  },
  {
   "cell_type": "code",
   "execution_count": null,
   "metadata": {
    "collapsed": false
   },
   "outputs": [],
   "source": [
    "from math import pi\n",
    "[str(round(pi,i)) for i in range (1, 6)]"
   ]
  },
  {
   "cell_type": "code",
   "execution_count": null,
   "metadata": {
    "collapsed": false
   },
   "outputs": [],
   "source": [
    "#Nested List Comprehension\n",
    "matrix = [[1,2,3],[4,5,6],[7,8,9],[10,11,12]]\n",
    "[[row[i] for row in matrix] for i in range(3)]\n",
    "#please note elements inside the nested list should be equal to range "
   ]
  },
  {
   "cell_type": "code",
   "execution_count": null,
   "metadata": {
    "collapsed": false
   },
   "outputs": [],
   "source": [
    "#Tuples are immutableand usually contains a heterogenous sequence of elements that are accessed via unpacking\n",
    "\n",
    "t = 1234, 4321, 'hello'\n",
    "\n",
    "u = t, (1,2,3,4)\n",
    "\n",
    "u"
   ]
  },
  {
   "cell_type": "code",
   "execution_count": null,
   "metadata": {
    "collapsed": false
   },
   "outputs": [],
   "source": [
    "singleton = 'hello',\n",
    "\n",
    "len(singleton)"
   ]
  },
  {
   "cell_type": "code",
   "execution_count": null,
   "metadata": {
    "collapsed": false
   },
   "outputs": [],
   "source": [
    "#sets\n",
    "\n",
    "a = set ('abracadabra')\n",
    "b = set ('alacazam')\n",
    "\n",
    "#    - letters in a but not in b\n",
    "a - b \n",
    "\n",
    "#    | letters in a or in b \n",
    "\n",
    "a | b\n",
    "\n",
    "#    & letters in a and in b\n",
    "\n",
    "a & b \n",
    "\n",
    "#    ^ letters in a or in b but not in both\n",
    "\n",
    "a ^ b"
   ]
  },
  {
   "cell_type": "code",
   "execution_count": null,
   "metadata": {
    "collapsed": false
   },
   "outputs": [],
   "source": [
    "#Dictionaries \n",
    "\n",
    "a = {x: x**2 for x in (2,4,6)}\n",
    "\n",
    "for k,v in a.items():\n",
    "    print(k,v)\n",
    "    \n",
    "#items is a method\n",
    "\n",
    "#enumerate -  to assign keys\n",
    "\n",
    "for i, v in enumerate(['a','c','b']):\n",
    "    print (i,v)"
   ]
  },
  {
   "cell_type": "code",
   "execution_count": null,
   "metadata": {
    "collapsed": false
   },
   "outputs": [],
   "source": [
    "#Zip function is used to itterate over two functions\n",
    "\n",
    "a = [1,2,3,4,5]\n",
    "\n",
    "b = ['11','22','33','44','55']\n",
    "\n",
    "for a1,b1 in zip (a,b):\n",
    "    print('as like {0} {1}'.format(a1,b1))"
   ]
  },
  {
   "cell_type": "code",
   "execution_count": null,
   "metadata": {
    "collapsed": false
   },
   "outputs": [],
   "source": [
    "#Input-Output\n",
    "\n",
    "s = 'hello, world'\n",
    "\n",
    "str(s) # Human Readable\n",
    "\n",
    "repr(s) # Machine readable"
   ]
  },
  {
   "cell_type": "code",
   "execution_count": null,
   "metadata": {
    "collapsed": false
   },
   "outputs": [],
   "source": [
    "# padding a neumeric string on the left with zeros\n",
    "\n",
    "'12'.zfill(5)"
   ]
  },
  {
   "cell_type": "code",
   "execution_count": null,
   "metadata": {
    "collapsed": false
   },
   "outputs": [],
   "source": [
    "def file_read(fname):\n",
    "        txt = open(fname)\n",
    "        print(txt.read())\n",
    "\n",
    "file_read('shubham.txt')"
   ]
  },
  {
   "cell_type": "code",
   "execution_count": null,
   "metadata": {
    "collapsed": false
   },
   "outputs": [],
   "source": [
    "#file = input('Enter the name of file:')\n",
    "fp = open('//home//shubham//shubham.txt','r')\n",
    "#line = fp.read()\n",
    "#print(line)\n",
    "\n",
    "for line in fp:\n",
    "    print(line,end='')"
   ]
  },
  {
   "cell_type": "code",
   "execution_count": null,
   "metadata": {
    "collapsed": true
   },
   "outputs": [],
   "source": []
  }
 ],
 "metadata": {
  "anaconda-cloud": {},
  "kernelspec": {
   "display_name": "Python [default]",
   "language": "python",
   "name": "python3"
  },
  "language_info": {
   "codemirror_mode": {
    "name": "ipython",
    "version": 3
   },
   "file_extension": ".py",
   "mimetype": "text/x-python",
   "name": "python",
   "nbconvert_exporter": "python",
   "pygments_lexer": "ipython3",
   "version": "3.5.2"
  }
 },
 "nbformat": 4,
 "nbformat_minor": 1
}
